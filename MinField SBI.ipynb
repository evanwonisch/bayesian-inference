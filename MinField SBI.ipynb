{
 "cells": [
  {
   "cell_type": "code",
   "execution_count": 1,
   "id": "2912dc5d",
   "metadata": {},
   "outputs": [
    {
     "name": "stdout",
     "output_type": "stream",
     "text": [
      "Populating the interactive namespace from numpy and matplotlib\n"
     ]
    }
   ],
   "source": [
    "%pylab inline\n",
    "import tensorflow as tf\n",
    "import tensorflow_probability as tfp"
   ]
  },
  {
   "cell_type": "code",
   "execution_count": 2,
   "id": "72ad3295",
   "metadata": {},
   "outputs": [],
   "source": [
    "tfd = tfp.distributions\n",
    "tfb = tfp.bijectors\n",
    "tfl = tf.keras.layers"
   ]
  },
  {
   "cell_type": "code",
   "execution_count": 3,
   "id": "68fd2014",
   "metadata": {},
   "outputs": [],
   "source": [
    "from lib.SBIGaussian import *\n",
    "from lib.GaussianMixture import *"
   ]
  },
  {
   "cell_type": "markdown",
   "id": "4c42055e",
   "metadata": {},
   "source": [
    "### Model construction"
   ]
  },
  {
   "cell_type": "code",
   "execution_count": 4,
   "id": "0a2fe0cb",
   "metadata": {},
   "outputs": [],
   "source": [
    "class BLNoise(tf.Module):\n",
    "    def __init__(self, in_size, out_size, name=None):\n",
    "        super().__init__(name=name)\n",
    "        self.in_size = in_size\n",
    "        self.out_size = out_size\n",
    "        Z_init = tf.complex(\n",
    "            tf.random.normal(self.in_size),\n",
    "            tf.random.normal(self.in_size))\n",
    "        self.Z = tf.Variable(Z_init, name='Z')\n",
    "\n",
    "    @tf.function\n",
    "    def __call__(self):\n",
    "        nt, nx, ny = self.in_size\n",
    "        nT, nX, nY = self.out_size\n",
    "        Z_ = tf.pad(self.Z, [(0, nT-nt),(0, nX-nx),(0, nY-ny)])\n",
    "        z = tf.math.real(tf.signal.fft3d(Z_))\n",
    "        return z"
   ]
  },
  {
   "cell_type": "code",
   "execution_count": 5,
   "id": "12d2d49e",
   "metadata": {},
   "outputs": [],
   "source": [
    "class NF2D(tf.Module):\n",
    "    def __init__(self, nt, nlat, nlon, dt: float=0.1, name=None):\n",
    "        super().__init__(name=name)\n",
    "        self.local_coupling = None\n",
    "        self.dt = dt\n",
    "        self.sqrt_dt = tf.sqrt(dt)\n",
    "        self.half_dt = dt / 2\n",
    "        self.nT, self.nlat, self.nlon = nt, nlat, nlon\n",
    "        \n",
    "        # diffusion kernel, could replace (or train!)\n",
    "        K = np.c_[:self.nlat]*np.r_[:self.nlon]\n",
    "        K = K / K.max()\n",
    "        \n",
    "        self.kernel = tf.convert_to_tensor(K.astype(np.complex64))\n",
    "        self.bias = tf.zeros((self.nlat, self.nlon))\n",
    "        self.weight = tf.constant(1.0)\n",
    "        self.sigma = tf.constant(0.2)\n",
    "    \n",
    "    @tf.function\n",
    "    def __call__(self, zs):\n",
    "        xs = [zs[0]*0 - 2.0]\n",
    "        for t in range(1, self.nT):\n",
    "            xs.append(self._heun(xs[-1], zs[t - 1]))\n",
    "        return tf.stack(xs)\n",
    "    \n",
    "    def _euler(self, x, z):\n",
    "        \"Stochastic Euler method for diff eq _f.\"\n",
    "        z_ = z * self.sqrt_dt * self.sigma\n",
    "        dx1 = self._f(x)\n",
    "        return x + self.dt*dx1 + z_\n",
    "    \n",
    "    def _heun(self, x, z):\n",
    "        \"Stochastic Heun method for diff eq _f.\"\n",
    "        z_ = z * self.sqrt_dt * self.sigma\n",
    "        dx1 = self._f(x)\n",
    "        dx2 = self._f(x + self.dt * dx1 + z_)\n",
    "        return x + self.half_dt*(dx1 + dx2) + z_\n",
    "\n",
    "    def _f(self, x):\n",
    "        \"Bistable neural field with spatial bias.\"\n",
    "        return x - x**3/3 + self.weight*self._lc(x) + self.bias\n",
    "    \n",
    "    def _lc(self, x):\n",
    "        \"Local field coupling w/ a kernel.\"\n",
    "        X = tf.signal.fft2d(tf.cast(x, tf.complex64))\n",
    "        cx = tf.signal.ifft2d(self.kernel * X)\n",
    "        return tf.math.real(cx)"
   ]
  },
  {
   "cell_type": "code",
   "execution_count": 6,
   "id": "657876d4",
   "metadata": {},
   "outputs": [],
   "source": [
    "class LobeForward(tf.Module):\n",
    "    \"Module for sEEG in temporal lobe forward solution.\"\n",
    "    \n",
    "    def __init__(self, nlat, nlon, name=None):\n",
    "        super().__init__(name=name)\n",
    "        self._init_lobe_geometry(nlat, nlon)\n",
    "        self._init_contact_geometry()\n",
    "        self._init_lobe_normals()\n",
    "        self._init_gain_matrix()\n",
    "\n",
    "    def _init_lobe_geometry(self, nlat, nlon):\n",
    "        t = np.r_[:2*np.pi:1j*nlat]\n",
    "        r = np.tanh(np.sin(6*t)*2)+2\n",
    "        x, z = r*np.sin(t), r*np.cos(t)\n",
    "        y = np.r_[x.min():x.max():1j*nlon]\n",
    "        fxyz = np.zeros((nlat, nlon, 3))\n",
    "        fxyz[..., 0] = x[:,None]\n",
    "        fxyz[..., 1] = y\n",
    "        fxyz[..., 2] = z[:,None]\n",
    "        self.fxyz = fxyz\n",
    "        self.x, self.y, self.z = x, y, z\n",
    "    \n",
    "    def _init_contact_geometry(self):\n",
    "        # TODO update later\n",
    "        cy = [-2, 1, -1, 2]\n",
    "        cz = [2, 1, -1, -2]\n",
    "        nc = 10\n",
    "        cx = np.r_[self.x.min():self.x.max():1j*nc]\n",
    "        o10 = np.ones(nc)\n",
    "        cxyz = np.vstack([np.c_[cx, o10*cy_, o10*cz_] for cy_, cz_ in zip(cy,cz)])\n",
    "        cx, cy, cz = cxyz.T\n",
    "        self.cxyz = cxyz\n",
    "        \n",
    "    def _init_lobe_normals(self):\n",
    "        def vd(x):\n",
    "            dx = np.diff(x)\n",
    "            return np.r_[(dx[0] + dx[-1])/2, (dx[1:]+dx[:-1])/2, (dx[0] + dx[-1])/2]\n",
    "        dx = vd(self.x)\n",
    "        dz = vd(self.z)\n",
    "        self.nxy = np.c_[-dz, dx]\n",
    "\n",
    "    def _init_gain_matrix(self):\n",
    "        gain = np.zeros(self.fxyz.shape[:-1] + self.cxyz.shape[:1])\n",
    "        Q = np.zeros_like(self.fxyz)\n",
    "        Q[..., 0] = self.nxy[:,0][:,None]\n",
    "        Q[..., 2] = self.nxy[:,1][:,None]\n",
    "        for i, c in enumerate(self.cxyz):\n",
    "            rr0 = c - self.fxyz\n",
    "            gain[..., i] = np.sum(Q * rr0, axis=-1)\n",
    "            gain[..., i] /= 1e-1 + np.linalg.norm(rr0, axis=-1)**3 # 4 pi sigma\n",
    "        # permute axes for perf\n",
    "        # (lat, lon, contact) -> (contact, lat*lon)\n",
    "        gain = np.transpose(gain, (2, 0, 1)).reshape((len(self.cxyz), -1))\n",
    "        # NB: transpose now because unlike numpy, tf.tranpose is O(n)\n",
    "        self.gain = tf.convert_to_tensor(gain.astype('f').T)\n",
    "\n",
    "    # @tf.function\n",
    "    def __call__(self, xt):\n",
    "        xt_ = tf.reshape(xt, (-1, fwd.gain.shape[0]))  # O(1)\n",
    "        return tf.linalg.matmul(xt_, self.gain)"
   ]
  },
  {
   "cell_type": "markdown",
   "id": "209b10f6",
   "metadata": {},
   "source": [
    "## Model Definition"
   ]
  },
  {
   "cell_type": "code",
   "execution_count": 7,
   "id": "d47c1be4",
   "metadata": {},
   "outputs": [],
   "source": [
    "nt, nlat, nlon = 64, 32, 32\n",
    "fwd = LobeForward(nlat, nlon)"
   ]
  },
  {
   "cell_type": "markdown",
   "id": "528f7f10",
   "metadata": {},
   "source": [
    "### Model Reparametrisation:\n",
    "\n",
    "instead of the entire bias (nlat * nlot) we parametrise the bias by the coordinates, the radius and the deviation of a pathological blob. The rest is normal distributed:"
   ]
  },
  {
   "cell_type": "code",
   "execution_count": 8,
   "id": "334b0588",
   "metadata": {},
   "outputs": [],
   "source": [
    "#shape(param) = (4,)\n",
    "def get_bias(param):\n",
    "    x = tf.math.sigmoid(param[0]) * nlat\n",
    "    y = tf.math.sigmoid(param[1]) * nlon\n",
    "    r = param[2] ** 2\n",
    "    depth = param[3]\n",
    "    \n",
    "    bias = np.random.randn(nlat, nlon) / 10\n",
    "    \n",
    "    def fill(x_,y_):\n",
    "        r2 = (x_-x)**2 + (y_-y)**2\n",
    "        return np.exp(-r2/(r+0.01)) * depth\n",
    "        \n",
    "        \n",
    "    overlay = np.fromfunction(fill, shape = (nlat, nlon))\n",
    "    \n",
    "    return tf.constant(bias + overlay)"
   ]
  },
  {
   "cell_type": "code",
   "execution_count": 9,
   "id": "a2601bff",
   "metadata": {},
   "outputs": [],
   "source": [
    "def mech_model(theta):\n",
    "    noise = BLNoise((16, 4, 4), (nt, nlat, nlon))()\n",
    "    nf = NF2D(nt, nlat, nlon)\n",
    "    nf.bias = get_bias(theta)\n",
    "    data = nf(noise)\n",
    "    y = fwd(data)\n",
    "    \n",
    "    return y"
   ]
  },
  {
   "cell_type": "code",
   "execution_count": 10,
   "id": "c6ba3cd5",
   "metadata": {},
   "outputs": [],
   "source": [
    "proposal_prior = tfd.Normal(loc = [0,0,9,8], scale = [1,1,1,1])"
   ]
  },
  {
   "cell_type": "markdown",
   "id": "8722f3bc",
   "metadata": {},
   "source": [
    "## Dataset"
   ]
  },
  {
   "cell_type": "code",
   "execution_count": null,
   "id": "68400f36",
   "metadata": {},
   "outputs": [],
   "source": [
    "# # Only for writing Datasets (takes 3hrs)\n",
    "\n",
    "# N = 1e4\n",
    "# def data_gen():\n",
    "#     for i in range(int(N)):\n",
    "#         theta = proposal_prior.sample()\n",
    "#         s = mech_model(theta)\n",
    "        \n",
    "#         if i % (int(N)/1000) == 0:\n",
    "#             print(i/N)\n",
    "        \n",
    "#         yield s, theta\n",
    "\n",
    "\n",
    "# dataset = tf.data.Dataset.from_generator(data_gen, output_signature = (tf.TensorSpec(shape = (nt, 40)), tf.TensorSpec(shape = (4,))))\n",
    "\n",
    "# tf.data.experimental.save(dataset, \"data/MinFieldData_prior_mean_0_0_9_8_std_1_1_1_1\")"
   ]
  },
  {
   "cell_type": "code",
   "execution_count": 11,
   "id": "885538a3",
   "metadata": {},
   "outputs": [],
   "source": [
    "dataset = tf.data.experimental.load(\"data/MinFieldData_prior_mean_0_0_9_8_std_1_1_1_1\")"
   ]
  },
  {
   "cell_type": "code",
   "execution_count": 12,
   "id": "72eb4ba1",
   "metadata": {},
   "outputs": [],
   "source": [
    "dataset = dataset.batch(100)"
   ]
  },
  {
   "cell_type": "markdown",
   "id": "d0c63b3f",
   "metadata": {},
   "source": [
    "## Feature Extractor"
   ]
  },
  {
   "cell_type": "code",
   "execution_count": 14,
   "id": "0f893ff2",
   "metadata": {},
   "outputs": [],
   "source": [
    "compressed_dim = 140"
   ]
  },
  {
   "cell_type": "code",
   "execution_count": 15,
   "id": "04a10e60",
   "metadata": {},
   "outputs": [],
   "source": [
    "class Compressor(tf.Module):\n",
    "    def __init__(self, name = None):\n",
    "        super().__init__(name = name)\n",
    "        self.lstm1 = tfl.LSTM(units = 616)\n",
    "        self.d1 = tfl.Dense(units = 240, activation = \"relu\")\n",
    "        self.d2 = tfl.Dense(units = 200, activation = \"relu\")\n",
    "        self.d3 = tfl.Dense(units = compressed_dim, activation = \"relu\")\n",
    "    \n",
    "    @tf.function()\n",
    "    def __call__(self, batch):\n",
    "        x = self.lstm1(batch)\n",
    "        x = self.d1(x)\n",
    "        x = self.d2(x)\n",
    "        x = self.d3(x)\n",
    "        return x"
   ]
  },
  {
   "cell_type": "markdown",
   "id": "448f167f",
   "metadata": {},
   "source": [
    "## Variational Distribution"
   ]
  },
  {
   "cell_type": "code",
   "execution_count": 16,
   "id": "80072545",
   "metadata": {},
   "outputs": [],
   "source": [
    "#things to train:\n",
    "variational_dist = SBIGaussianMixture(data_dim = compressed_dim, param_dim = 4, n_components = 1, layer_sizes = [120,120,120])\n",
    "compressor = Compressor()"
   ]
  },
  {
   "cell_type": "code",
   "execution_count": 17,
   "id": "21dac10a",
   "metadata": {},
   "outputs": [],
   "source": [
    "@tf.function()\n",
    "def logp(batch_data, batch_theta):\n",
    "    compressed = compressor(batch_data)\n",
    "    val = tf.reduce_sum(variational_dist.log_prob(compressed, batch_theta))\n",
    "    return val\n",
    "\n",
    "@tf.function()\n",
    "def loss(batch_data, batch_theta):\n",
    "    return -logp(batch_data, batch_theta)"
   ]
  },
  {
   "cell_type": "code",
   "execution_count": 18,
   "id": "e363f3dd",
   "metadata": {},
   "outputs": [],
   "source": [
    "opt = tf.optimizers.Adam(learning_rate = 0.01)\n",
    "metrics = {\"loss\": []}"
   ]
  },
  {
   "cell_type": "code",
   "execution_count": 102,
   "id": "342ffec6",
   "metadata": {},
   "outputs": [],
   "source": [
    "for i in range(3):\n",
    "    for batch in dataset:\n",
    "        batch_x, batch_theta = batch\n",
    "\n",
    "        def loss_():\n",
    "            val = loss(batch_x, batch_theta)\n",
    "            metrics[\"loss\"].append(val.numpy())\n",
    "            return val\n",
    "        opt.minimize(loss_, variational_dist.trainable_variables + compressor.trainable_variables)"
   ]
  },
  {
   "cell_type": "code",
   "execution_count": 103,
   "id": "7b8532be",
   "metadata": {},
   "outputs": [
    {
     "data": {
      "text/plain": [
       "[<matplotlib.lines.Line2D at 0x270d0802a00>]"
      ]
     },
     "execution_count": 103,
     "metadata": {},
     "output_type": "execute_result"
    },
    {
     "data": {
      "image/png": "[encoded data removed]",
      "text/plain": [
       "<Figure size 432x288 with 1 Axes>"
      ]
     },
     "metadata": {
      "needs_background": "light"
     },
     "output_type": "display_data"
    }
   ],
   "source": [
    "plt.plot(metrics[\"loss\"][20:])"
   ]
  },
  {
   "cell_type": "markdown",
   "id": "0661610c",
   "metadata": {},
   "source": [
    "## Observation"
   ]
  },
  {
   "cell_type": "code",
   "execution_count": 114,
   "id": "1e8efed8",
   "metadata": {},
   "outputs": [],
   "source": [
    "theta = proposal_prior.sample()\n",
    "used_bias = get_bias(theta)\n",
    "\n",
    "\n",
    "obs = mech_model(theta)\n",
    "post_dist = variational_dist.build_dist(compressor(tf.expand_dims(obs, axis = 0)))\n",
    "post_dist_param = variational_dist.calc_mixture_params(compressor(tf.expand_dims(obs, axis = 0)))\n",
    "post_sample = post_dist.sample(1000)"
   ]
  },
  {
   "cell_type": "code",
   "execution_count": 115,
   "id": "cbfc8f65",
   "metadata": {},
   "outputs": [
    {
     "data": {
      "text/plain": [
       "<Figure size 432x288 with 0 Axes>"
      ]
     },
     "execution_count": 115,
     "metadata": {},
     "output_type": "execute_result"
    },
    {
     "data": {
      "image/png": "[encoded data removed]",
      "text/plain": [
       "<Figure size 432x288 with 1 Axes>"
      ]
     },
     "metadata": {
      "needs_background": "light"
     },
     "output_type": "display_data"
    },
    {
     "data": {
      "text/plain": [
       "<Figure size 432x288 with 0 Axes>"
      ]
     },
     "metadata": {},
     "output_type": "display_data"
    }
   ],
   "source": [
    "plt.scatter(post_sample[:,0,0], post_sample[:,0,1], label = \"posterior sample\")\n",
    "plt.scatter(theta[0], theta[1], label = \"observation\")\n",
    "plt.xlabel(\"theta[0]\")\n",
    "plt.ylabel(\"theta[1]\")\n",
    "plt.legend()\n",
    "plt.figure()"
   ]
  },
  {
   "cell_type": "code",
   "execution_count": 116,
   "id": "7ef31a2a",
   "metadata": {},
   "outputs": [
    {
     "data": {
      "text/plain": [
       "<Figure size 432x288 with 0 Axes>"
      ]
     },
     "execution_count": 116,
     "metadata": {},
     "output_type": "execute_result"
    },
    {
     "data": {
      "image/png": "[encoded data removed]",
      "text/plain": [
       "<Figure size 432x288 with 1 Axes>"
      ]
     },
     "metadata": {
      "needs_background": "light"
     },
     "output_type": "display_data"
    },
    {
     "data": {
      "text/plain": [
       "<Figure size 432x288 with 0 Axes>"
      ]
     },
     "metadata": {},
     "output_type": "display_data"
    }
   ],
   "source": [
    "plt.scatter(post_sample[:,0,2], post_sample[:,0,3], label = \"posterior sample\")\n",
    "plt.scatter(theta[2], theta[3], label = \"observation\")\n",
    "plt.xlabel(\"theta[2]\")\n",
    "plt.ylabel(\"theta[3]\")\n",
    "plt.legend()\n",
    "plt.figure()"
   ]
  },
  {
   "cell_type": "code",
   "execution_count": 117,
   "id": "171a8031",
   "metadata": {},
   "outputs": [
    {
     "data": {
      "text/plain": [
       "Text(0.5, 1.0, 'Mean posterior Bias')"
      ]
     },
     "execution_count": 117,
     "metadata": {},
     "output_type": "execute_result"
    },
    {
     "data": {
      "image/png": "[encoded data removed]",
      "text/plain": [
       "<Figure size 432x288 with 1 Axes>"
      ]
     },
     "metadata": {
      "needs_background": "light"
     },
     "output_type": "display_data"
    },
    {
     "data": {
      "image/png": "[encoded data removed]",
      "text/plain": [
       "<Figure size 432x288 with 1 Axes>"
      ]
     },
     "metadata": {
      "needs_background": "light"
     },
     "output_type": "display_data"
    }
   ],
   "source": [
    "plt.imshow(used_bias)\n",
    "plt.title(\"Used Bias\")\n",
    "plt.figure()\n",
    "\n",
    "plt.imshow(get_bias(post_dist_param[1][0][0]))\n",
    "plt.title(\"Mean posterior Bias\")"
   ]
  },
  {
   "cell_type": "markdown",
   "id": "2179e0c8",
   "metadata": {},
   "source": [
    "## Save Model Params"
   ]
  },
  {
   "cell_type": "code",
   "execution_count": 108,
   "id": "4f377a49",
   "metadata": {},
   "outputs": [
    {
     "data": {
      "text/plain": [
       "'checkpoints/compressor/'"
      ]
     },
     "execution_count": 108,
     "metadata": {},
     "output_type": "execute_result"
    }
   ],
   "source": [
    "chkp_path = \"checkpoints/compressor/\"\n",
    "checkpoint = tf.train.Checkpoint(model=compressor)\n",
    "checkpoint.write(chkp_path)"
   ]
  },
  {
   "cell_type": "code",
   "execution_count": 109,
   "id": "aa714fcc",
   "metadata": {},
   "outputs": [
    {
     "data": {
      "text/plain": [
       "'checkpoints/variational_dist/'"
      ]
     },
     "execution_count": 109,
     "metadata": {},
     "output_type": "execute_result"
    }
   ],
   "source": [
    "chkp_path = \"checkpoints/variational_dist/\"\n",
    "checkpoint = tf.train.Checkpoint(model=variational_dist)\n",
    "checkpoint.write(chkp_path)"
   ]
  }
 ],
 "metadata": {
  "kernelspec": {
   "display_name": "Python 3 (ipykernel)",
   "language": "python",
   "name": "python3"
  },
  "language_info": {
   "codemirror_mode": {
    "name": "ipython",
    "version": 3
   },
   "file_extension": ".py",
   "mimetype": "text/x-python",
   "name": "python",
   "nbconvert_exporter": "python",
   "pygments_lexer": "ipython3",
   "version": "3.9.7"
  }
 },
 "nbformat": 4,
 "nbformat_minor": 5
}
