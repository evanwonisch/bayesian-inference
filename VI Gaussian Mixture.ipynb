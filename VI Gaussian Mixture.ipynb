{
 "cells": [
  {
   "cell_type": "code",
   "execution_count": 1,
   "id": "d61d84e5",
   "metadata": {},
   "outputs": [],
   "source": [
    "import numpy as np\n",
    "from matplotlib import pyplot as plt\n",
    "import tensorflow as tf\n",
    "import tensorflow_probability as tfp\n",
    "\n",
    "tfd = tfp.distributions\n",
    "tfb = tfp.bijectors"
   ]
  },
  {
   "cell_type": "code",
   "execution_count": 2,
   "id": "dbc838f0",
   "metadata": {},
   "outputs": [],
   "source": [
    "from lib.GaussianMixture import *"
   ]
  },
  {
   "cell_type": "markdown",
   "id": "ea599fc9",
   "metadata": {},
   "source": [
    "## Model\n",
    "This is a simple bi-modal model of data $x_i\\in \\mathbb{R}$ wich is distributed by two unit-variance gaussian with parametrised means."
   ]
  },
  {
   "cell_type": "code",
   "execution_count": 20,
   "id": "46367cc5",
   "metadata": {},
   "outputs": [],
   "source": [
    "def normal(x, my = 0., sigma = 1.):\n",
    "    return 1/tf.sqrt(2*np.pi)/sigma * tf.exp(-0.5 * ((x - my)/sigma)**2)"
   ]
  },
  {
   "cell_type": "code",
   "execution_count": 21,
   "id": "203efedf",
   "metadata": {},
   "outputs": [],
   "source": [
    "def log_normal(x, my = 0., sigma = 1.):\n",
    "    return tf.math.log(1/tf.sqrt(2*np.pi)/sigma) - 0.5 * ((x - my)/sigma)**2"
   ]
  },
  {
   "cell_type": "code",
   "execution_count": 22,
   "id": "2e0ba014",
   "metadata": {},
   "outputs": [],
   "source": [
    "#shape(x) = (N_data, datashape...)\n",
    "#shape(theta) = (1, N_theta, thetashape...)\n",
    "def log_joint_dist(x, theta):\n",
    "    return tf.math.log(0.5 * normal(x, my = theta[:,:,0], sigma = 1) + 0.5 * normal(x, my = theta[:,:,1], sigma = 1))"
   ]
  },
  {
   "cell_type": "code",
   "execution_count": 23,
   "id": "fddc0495",
   "metadata": {},
   "outputs": [],
   "source": [
    "def log_joint_dist_combined(x, theta):\n",
    "    return tf.reduce_sum(log_joint_dist(x, theta), axis = 0)"
   ]
  },
  {
   "cell_type": "code",
   "execution_count": 24,
   "id": "8c13c4b3",
   "metadata": {},
   "outputs": [],
   "source": [
    "##Broadcasting usage\n",
    "\n",
    "# x_hat = tf.random.normal(shape = (100,1), mean = -2, stddev = 1)\n",
    "# print(x_hat.shape)\n",
    "\n",
    "# sample = tf.expand_dims(variational_dist.dist.sample(20), axis = 0)\n",
    "# print(sample.shape)\n",
    "\n",
    "# logp = log_joint_dist(x_hat, sample)\n",
    "# print(logp.shape)"
   ]
  },
  {
   "cell_type": "markdown",
   "id": "7ed2dcb4",
   "metadata": {},
   "source": [
    "## Observation\n",
    "This samples from our model mith $\\mathrm{means} = [2.3, -3.3]$."
   ]
  },
  {
   "cell_type": "code",
   "execution_count": 30,
   "id": "75c5e5f7",
   "metadata": {},
   "outputs": [],
   "source": [
    "x_hat1 = tf.random.normal(shape = (24,1), mean = 2.3, stddev = 1)\n",
    "x_hat2 = tf.random.normal(shape = (24,1), mean = -3.3, stddev = 1)\n",
    "x_hat = tf.concat((x_hat1, x_hat2), axis = 0)"
   ]
  },
  {
   "cell_type": "code",
   "execution_count": 31,
   "id": "75e25dc1",
   "metadata": {},
   "outputs": [
    {
     "data": {
      "image/png": "[encoded data removed]",
      "text/plain": [
       "<Figure size 432x288 with 1 Axes>"
      ]
     },
     "metadata": {
      "needs_background": "light"
     },
     "output_type": "display_data"
    }
   ],
   "source": [
    "plt.hist(x_hat.numpy(), bins = 20)\n",
    "plt.title(\"Observation\")\n",
    "plt.show()"
   ]
  },
  {
   "cell_type": "markdown",
   "id": "30e985e4",
   "metadata": {},
   "source": [
    "## Visualisation of analytical posterior"
   ]
  },
  {
   "cell_type": "code",
   "execution_count": 13,
   "id": "8d6794a1",
   "metadata": {},
   "outputs": [],
   "source": [
    "res = 30\n",
    "logp = np.zeros(shape = (res,res))\n",
    "for i in range(res):\n",
    "    for j in range(res):\n",
    "        x = i/res * 10 - 5\n",
    "        y = j/res * 10 - 5\n",
    "        logp[i,j] = log_joint_dist_combined(x_hat, tf.constant([[[x,y]]]))"
   ]
  },
  {
   "cell_type": "code",
   "execution_count": 14,
   "id": "7c0ae188",
   "metadata": {},
   "outputs": [
    {
     "data": {
      "image/png": "[encoded data removed]",
      "text/plain": [
       "<Figure size 432x288 with 2 Axes>"
      ]
     },
     "metadata": {
      "needs_background": "light"
     },
     "output_type": "display_data"
    }
   ],
   "source": [
    "plt.imshow(logp.T)\n",
    "plt.title(\"Posterior\")\n",
    "plt.colorbar()\n",
    "plt.show()"
   ]
  },
  {
   "cell_type": "markdown",
   "id": "1400b06a",
   "metadata": {},
   "source": [
    "## Variational Inference\n",
    "\n",
    "2D Gaussian Mixture of 6 components is used to fit the above distribution."
   ]
  },
  {
   "cell_type": "code",
   "execution_count": 15,
   "id": "5620b769",
   "metadata": {},
   "outputs": [],
   "source": [
    "#This uses our library\n",
    "#Gaussian Mixture is a trainable gaussian mixture distribution with variable number of components. The categoric propabilities,\n",
    "#the means and variances are parametrised by variables and can be differentiated to.\n",
    "variational_dist = GaussianMixture(dimensions = 2, n_components = 6)"
   ]
  },
  {
   "cell_type": "code",
   "execution_count": 27,
   "id": "fb5c4e05",
   "metadata": {},
   "outputs": [],
   "source": [
    "#Objective funtion to maximise is ELBO between the joint and the variational distribution. This minimises at the same time\n",
    "#the KL-divergence between our variational distribution and the analytical posterior.\n",
    "def ELBO(N = 1):\n",
    "    theta_sample = tf.expand_dims(variational_dist.dist.sample(N), axis = 0)\n",
    "    \n",
    "    elbo = log_joint_dist_combined(x_hat, theta_sample) - variational_dist.dist.log_prob(theta_sample)\n",
    "    return tf.reduce_mean(elbo)"
   ]
  },
  {
   "cell_type": "code",
   "execution_count": 28,
   "id": "0ba34948",
   "metadata": {},
   "outputs": [
    {
     "name": "stdout",
     "output_type": "stream",
     "text": [
      "ELBO: -98.05661\n"
     ]
    }
   ],
   "source": [
    "print(\"ELBO:\", ELBO().numpy())"
   ]
  },
  {
   "cell_type": "code",
   "execution_count": 32,
   "id": "3a798ccd",
   "metadata": {},
   "outputs": [
    {
     "name": "stdout",
     "output_type": "stream",
     "text": [
      "ELBO: tf.Tensor(-104.97367, shape=(), dtype=float32)\n",
      "ELBO: tf.Tensor(-104.38729, shape=(), dtype=float32)\n",
      "ELBO: tf.Tensor(-104.394775, shape=(), dtype=float32)\n",
      "ELBO: tf.Tensor(-104.18501, shape=(), dtype=float32)\n",
      "ELBO: tf.Tensor(-104.45876, shape=(), dtype=float32)\n",
      "ELBO: tf.Tensor(-103.69585, shape=(), dtype=float32)\n",
      "ELBO: tf.Tensor(-104.55906, shape=(), dtype=float32)\n",
      "ELBO: tf.Tensor(-104.249146, shape=(), dtype=float32)\n",
      "ELBO: tf.Tensor(-104.39899, shape=(), dtype=float32)\n",
      "ELBO: tf.Tensor(-104.430466, shape=(), dtype=float32)\n",
      "ELBO: tf.Tensor(-104.35535, shape=(), dtype=float32)\n",
      "ELBO: tf.Tensor(-104.33794, shape=(), dtype=float32)\n",
      "ELBO: tf.Tensor(-104.3195, shape=(), dtype=float32)\n",
      "ELBO: tf.Tensor(-104.29344, shape=(), dtype=float32)\n",
      "ELBO: tf.Tensor(-104.28853, shape=(), dtype=float32)\n",
      "ELBO: tf.Tensor(-104.36104, shape=(), dtype=float32)\n",
      "ELBO: tf.Tensor(-104.28999, shape=(), dtype=float32)\n",
      "ELBO: tf.Tensor(-104.31566, shape=(), dtype=float32)\n",
      "ELBO: tf.Tensor(-104.36769, shape=(), dtype=float32)\n",
      "ELBO: tf.Tensor(-104.35602, shape=(), dtype=float32)\n",
      "ELBO: tf.Tensor(-104.33944, shape=(), dtype=float32)\n",
      "ELBO: tf.Tensor(-104.28613, shape=(), dtype=float32)\n",
      "ELBO: tf.Tensor(-104.38772, shape=(), dtype=float32)\n",
      "ELBO: tf.Tensor(-104.35618, shape=(), dtype=float32)\n"
     ]
    }
   ],
   "source": [
    "### Training\n",
    "opt = tf.optimizers.Adam(learning_rate=0.05)\n",
    "loss = tf.function(lambda: -ELBO(20))\n",
    "for i in range(int(1200)):\n",
    "    opt.minimize(loss, variational_dist.trainable_variables)\n",
    "    if i % 50 == 0:\n",
    "        print(\"ELBO:\", ELBO(10))"
   ]
  },
  {
   "cell_type": "markdown",
   "id": "f9779757",
   "metadata": {},
   "source": [
    "### Variational Posterior Visualisation"
   ]
  },
  {
   "cell_type": "code",
   "execution_count": 33,
   "id": "01713503",
   "metadata": {},
   "outputs": [
    {
     "data": {
      "text/plain": [
       "Text(0.5, 1.0, 'Variational Posterior')"
      ]
     },
     "execution_count": 33,
     "metadata": {},
     "output_type": "execute_result"
    },
    {
     "data": {
      "image/png": "[encoded data removed]",
      "text/plain": [
       "<Figure size 432x288 with 2 Axes>"
      ]
     },
     "metadata": {
      "needs_background": "light"
     },
     "output_type": "display_data"
    }
   ],
   "source": [
    "xx, yy = tf.meshgrid(tf.linspace(-5,5,100), tf.linspace(-5,5,100))\n",
    "thetas = tf.cast(tf.stack((xx, yy), axis = 2), dtype = \"float32\")\n",
    "\n",
    "img = variational_dist.dist.log_prob(thetas)\n",
    "\n",
    "plt.imshow(img.numpy())\n",
    "plt.colorbar()\n",
    "plt.title(\"Variational Posterior\")"
   ]
  }
 ],
 "metadata": {
  "kernelspec": {
   "display_name": "Python 3 (ipykernel)",
   "language": "python",
   "name": "python3"
  },
  "language_info": {
   "codemirror_mode": {
    "name": "ipython",
    "version": 3
   },
   "file_extension": ".py",
   "mimetype": "text/x-python",
   "name": "python",
   "nbconvert_exporter": "python",
   "pygments_lexer": "ipython3",
   "version": "3.9.7"
  },
  "vscode": {
   "interpreter": {
    "hash": "9927276ef6e3cad300998dfe21d49c2af11d059bfb1a1ffe5012d513202e01f5"
   }
  }
 },
 "nbformat": 4,
 "nbformat_minor": 5
}
